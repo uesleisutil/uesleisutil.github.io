{
 "nbformat": 4,
 "nbformat_minor": 2,
 "metadata": {
  "language_info": {
   "name": "python",
   "codemirror_mode": {
    "name": "ipython",
    "version": 3
   },
   "version": "3.7.4-final"
  },
  "orig_nbformat": 2,
  "file_extension": ".py",
  "mimetype": "text/x-python",
  "name": "python",
  "npconvert_exporter": "python",
  "pygments_lexer": "ipython3",
  "version": 3,
  "kernelspec": {
   "name": "python37464bitbasecondabab1aced6bc147d6b94dcd46c5bd0b72",
   "display_name": "Python 3.7.4 64-bit ('base': conda)"
  }
 },
 "cells": [
  {
   "cell_type": "code",
   "execution_count": null,
   "metadata": {},
   "outputs": [],
   "source": [
    "import pandas as pd\n",
    "import numpy as np\n",
    "from matplotlib.ticker import AutoMinorLocator\n",
    "import matplotlib.pyplot as plt\n",
    "import matplotlib.dates as mdates\n",
    "%matplotlib inline"
   ]
  },
  {
   "cell_type": "code",
   "execution_count": null,
   "metadata": {},
   "outputs": [],
   "source": [
    "##Open CSV file and import variables.\n",
    "df_blu         = pd.read_csv('blumenau.csv', keep_default_na=True, delimiter=',', header=None,names=['Year','Total', 'DayMax'])\n",
    "time_blu       = df_blu['Year']\n",
    "time_blu       = time_blu.values\n",
    "max_rain_blu   = df_blu['DayMax']\n",
    "max_rain_blu   = max_rain_blu.values\n",
    "total_rain_blu = df_blu['Total']\n",
    "total_rain_blu = total_rain_blu.values"
   ]
  },
  {
   "cell_type": "code",
   "execution_count": null,
   "metadata": {},
   "outputs": [],
   "source": [
    "df_maj         = pd.read_csv('major.csv', keep_default_na=True, delimiter=',', header=None,names=['Year','Total', 'DayMax'])\n",
    "time_maj       = df_maj['Year']\n",
    "time_maj       = time_maj.values\n",
    "max_rain_maj   = df_maj['DayMax']\n",
    "max_rain_maj   = max_rain_maj.values\n",
    "total_rain_maj = df_maj['Total']\n",
    "total_rain_maj = total_rain_maj.values"
   ]
  },
  {
   "cell_type": "code",
   "execution_count": null,
   "metadata": {},
   "outputs": [],
   "source": [
    "# Create figures subplots.\n",
    "fig, axs = plt.subplots(2, 1)\n",
    "fig.subplots_adjust(wspace=0, hspace=0.12)\n",
    "fig.set_size_inches(13, 7)\n",
    "# Y-axis range for both plots.\n",
    "y_major_ticks  = np.arange(0, 1001, 100)\n",
    "y_major_ticks2 = np.arange(0, 1001, 100)\n",
    "x_major_ticks  = np.arange(1945, 2011, 5)\n",
    "\n",
    "\n",
    "axs[0].plot(time_blu,max_rain_blu,label='November total precipitation (mm)',linestyle='-',marker='.',linewidth=2,color='C0')      \n",
    "axs[0].plot(time_blu,total_rain_blu,label='November daily maximum precipitation (mm)',linestyle='-',marker='.',linewidth=2,color='crimson')\n",
    "axs[0].legend(loc='upper left',fontsize=8)\n",
    "axs[0].yaxis.set_minor_locator(AutoMinorLocator())\n",
    "axs[0].tick_params(which='both',  width=2)\n",
    "axs[0].tick_params(which='major', length=7)\n",
    "axs[0].tick_params(which='minor', length=4)\n",
    "axs[0].xaxis.set_visible(False)\n",
    "axs[0].set_yticks(y_major_ticks)\n",
    "axs[0].set_ylabel('Precipitation [mm]',fontsize=9)\n",
    "axs[0].set_title('November precipitation history: Blumenau')\n",
    "axs[0].axvline(2008, color='k', linestyle=':', lw=1)\n",
    "axs[0].text(2002,980,'1001.2 mm',color='C0')\n",
    "axs[0].text(2002,250,'250.9 mm',color='crimson')\n",
    "\n",
    "axs[1].plot(time_maj,max_rain_maj,label='November total precipitation (mm)',linestyle='-',marker='.',linewidth=2,color='C0')      \n",
    "axs[1].plot(time_maj,total_rain_maj,label='November daily maximum precipitation (mm)',linestyle='-',marker='.',linewidth=2,color='crimson')\n",
    "axs[1].set_xlabel('Years')\n",
    "axs[1].set_xticks(x_major_ticks)\n",
    "axs[1].legend(loc='upper left',fontsize=8)\n",
    "axs[1].xaxis.set_minor_locator(AutoMinorLocator())\n",
    "axs[1].yaxis.set_minor_locator(AutoMinorLocator())\n",
    "axs[1].tick_params(which='both',  width=2)\n",
    "axs[1].tick_params(which='major', length=7)\n",
    "axs[1].tick_params(which='minor', length=4)\n",
    "axs[1].set_yticks(y_major_ticks)\n",
    "axs[1].set_ylabel('Precipitation [mm]',fontsize=9)\n",
    "axs[1].set_title('November precipitation history: Major Gercino')\n",
    "axs[1].axvline(2008, color='k', linestyle=':', lw=1)\n",
    "axs[1].text(2002,860,'860.6.2 mm',color='C0')\n",
    "axs[1].text(2002,300,'300.5 mm',color='crimson')"
   ]
  }
 ]
}